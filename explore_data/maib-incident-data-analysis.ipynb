{
 "cells": [
  {
   "cell_type": "code",
   "execution_count": null,
   "id": "8bfd0cb8",
   "metadata": {
    "_cell_guid": "b1076dfc-b9ad-4769-8c92-a6c4dae69d19",
    "_uuid": "8f2839f25d086af736a60e9eeb907d3b93b6e0e5",
    "execution": {
     "iopub.execute_input": "2025-10-18T07:31:55.625749Z",
     "iopub.status.busy": "2025-10-18T07:31:55.625458Z",
     "iopub.status.idle": "2025-10-18T07:31:57.652697Z",
     "shell.execute_reply": "2025-10-18T07:31:57.651822Z"
    },
    "papermill": {
     "duration": 2.032366,
     "end_time": "2025-10-18T07:31:57.654192",
     "exception": false,
     "start_time": "2025-10-18T07:31:55.621826",
     "status": "completed"
    },
    "tags": []
   },
   "outputs": [
    {
     "data": {
      "text/html": [
       "<div>\n",
       "<style scoped>\n",
       "    .dataframe tbody tr th:only-of-type {\n",
       "        vertical-align: middle;\n",
       "    }\n",
       "\n",
       "    .dataframe tbody tr th {\n",
       "        vertical-align: top;\n",
       "    }\n",
       "\n",
       "    .dataframe thead th {\n",
       "        text-align: right;\n",
       "    }\n",
       "</style>\n",
       "<table border=\"1\" class=\"dataframe\">\n",
       "  <thead>\n",
       "    <tr style=\"text-align: right;\">\n",
       "      <th></th>\n",
       "      <th>text</th>\n",
       "      <th>label</th>\n",
       "    </tr>\n",
       "  </thead>\n",
       "  <tbody>\n",
       "    <tr>\n",
       "      <th>0</th>\n",
       "      <td>A chemical/products tanker parted a mooring li...</td>\n",
       "      <td>Damage / Loss Of Equipment</td>\n",
       "    </tr>\n",
       "    <tr>\n",
       "      <th>1</th>\n",
       "      <td>A cruise ship passenger fell out of bed result...</td>\n",
       "      <td>Accident to person(s)</td>\n",
       "    </tr>\n",
       "    <tr>\n",
       "      <th>2</th>\n",
       "      <td>Cruise ship's passenger tripped and sustained ...</td>\n",
       "      <td>Accident to person(s)</td>\n",
       "    </tr>\n",
       "    <tr>\n",
       "      <th>3</th>\n",
       "      <td>A ro-pax crew member sustained a torn rotator ...</td>\n",
       "      <td>Accident to person(s)</td>\n",
       "    </tr>\n",
       "    <tr>\n",
       "      <th>4</th>\n",
       "      <td>Container ship's crew member sustained an open...</td>\n",
       "      <td>Accident to person(s)</td>\n",
       "    </tr>\n",
       "  </tbody>\n",
       "</table>\n",
       "</div>"
      ],
      "text/plain": [
       "                                                text  \\\n",
       "0  A chemical/products tanker parted a mooring li...   \n",
       "1  A cruise ship passenger fell out of bed result...   \n",
       "2  Cruise ship's passenger tripped and sustained ...   \n",
       "3  A ro-pax crew member sustained a torn rotator ...   \n",
       "4  Container ship's crew member sustained an open...   \n",
       "\n",
       "                        label  \n",
       "0  Damage / Loss Of Equipment  \n",
       "1       Accident to person(s)  \n",
       "2       Accident to person(s)  \n",
       "3       Accident to person(s)  \n",
       "4       Accident to person(s)  "
      ]
     },
     "execution_count": 15,
     "metadata": {},
     "output_type": "execute_result"
    }
   ],
   "source": [
    "import pandas as pd\n",
    "\n",
    "print(\"Step 1: Loading the MAIB incident reports dataset from JSONL format\")\n",
    "print(\"=\" * 60)\n",
    "\n",
    "df = pd.read_json(\n",
    "    '../data/maib-incident-reports-dataset.jsonl',\n",
    "    lines=True\n",
    ")\n",
    "\n",
    "print(f\"Dataset loaded successfully!\")\n",
    "print(f\"Shape: {df.shape}\")\n",
    "print(\"\\nFirst 5 rows of the dataset:\")\n",
    "df.head()\n"
   ]
  },
  {
   "cell_type": "code",
   "execution_count": null,
   "id": "48dd41e4",
   "metadata": {
    "execution": {
     "iopub.execute_input": "2025-10-18T07:31:57.660001Z",
     "iopub.status.busy": "2025-10-18T07:31:57.659720Z",
     "iopub.status.idle": "2025-10-18T07:31:57.668584Z",
     "shell.execute_reply": "2025-10-18T07:31:57.667671Z"
    },
    "papermill": {
     "duration": 0.013243,
     "end_time": "2025-10-18T07:31:57.669995",
     "exception": false,
     "start_time": "2025-10-18T07:31:57.656752",
     "status": "completed"
    },
    "tags": []
   },
   "outputs": [
    {
     "data": {
      "text/html": [
       "<div>\n",
       "<style scoped>\n",
       "    .dataframe tbody tr th:only-of-type {\n",
       "        vertical-align: middle;\n",
       "    }\n",
       "\n",
       "    .dataframe tbody tr th {\n",
       "        vertical-align: top;\n",
       "    }\n",
       "\n",
       "    .dataframe thead th {\n",
       "        text-align: right;\n",
       "    }\n",
       "</style>\n",
       "<table border=\"1\" class=\"dataframe\">\n",
       "  <thead>\n",
       "    <tr style=\"text-align: right;\">\n",
       "      <th></th>\n",
       "      <th>text</th>\n",
       "      <th>label</th>\n",
       "    </tr>\n",
       "  </thead>\n",
       "  <tbody>\n",
       "    <tr>\n",
       "      <th>5763</th>\n",
       "      <td>A ro-pax vessel crew member slipped and fell r...</td>\n",
       "      <td>Accident to person(s)</td>\n",
       "    </tr>\n",
       "    <tr>\n",
       "      <th>5764</th>\n",
       "      <td>Passenger vessel coming alongside ripped a cle...</td>\n",
       "      <td>Damage / Loss Of Equipment</td>\n",
       "    </tr>\n",
       "    <tr>\n",
       "      <th>5765</th>\n",
       "      <td>Pilot vessel made contact with a hopper dredge...</td>\n",
       "      <td>Collision</td>\n",
       "    </tr>\n",
       "    <tr>\n",
       "      <th>5766</th>\n",
       "      <td>A racing catamaran started taking on water dur...</td>\n",
       "      <td>Flooding / Foundering</td>\n",
       "    </tr>\n",
       "    <tr>\n",
       "      <th>5767</th>\n",
       "      <td>A replenishment tanker experienced a laundry r...</td>\n",
       "      <td>Fire / Explosion</td>\n",
       "    </tr>\n",
       "  </tbody>\n",
       "</table>\n",
       "</div>"
      ],
      "text/plain": [
       "                                                   text  \\\n",
       "5763  A ro-pax vessel crew member slipped and fell r...   \n",
       "5764  Passenger vessel coming alongside ripped a cle...   \n",
       "5765  Pilot vessel made contact with a hopper dredge...   \n",
       "5766  A racing catamaran started taking on water dur...   \n",
       "5767  A replenishment tanker experienced a laundry r...   \n",
       "\n",
       "                           label  \n",
       "5763       Accident to person(s)  \n",
       "5764  Damage / Loss Of Equipment  \n",
       "5765                   Collision  \n",
       "5766       Flooding / Foundering  \n",
       "5767            Fire / Explosion  "
      ]
     },
     "execution_count": 7,
     "metadata": {},
     "output_type": "execute_result"
    }
   ],
   "source": [
    "print(\"\\nStep 2: Examining the last 5 rows of the dataset\")\n",
    "print(\"=\" * 50)\n",
    "print(\"Last 5 rows of the dataset:\")\n",
    "df.tail()"
   ]
  },
  {
   "cell_type": "code",
   "execution_count": null,
   "id": "9d78d736",
   "metadata": {
    "execution": {
     "iopub.execute_input": "2025-10-18T07:31:57.675830Z",
     "iopub.status.busy": "2025-10-18T07:31:57.675576Z",
     "iopub.status.idle": "2025-10-18T07:31:57.680524Z",
     "shell.execute_reply": "2025-10-18T07:31:57.679614Z"
    },
    "papermill": {
     "duration": 0.009421,
     "end_time": "2025-10-18T07:31:57.681944",
     "exception": false,
     "start_time": "2025-10-18T07:31:57.672523",
     "status": "completed"
    },
    "tags": []
   },
   "outputs": [
    {
     "name": "stdout",
     "output_type": "stream",
     "text": [
      "5768\n"
     ]
    }
   ],
   "source": [
    "print(\"\\nStep 3: Getting the total number of records in the dataset\")\n",
    "print(\"=\" * 55)\n",
    "print(f\"Total number of incident reports: {len(df)}\")"
   ]
  },
  {
   "cell_type": "code",
   "execution_count": null,
   "id": "b495cc99",
   "metadata": {
    "execution": {
     "iopub.execute_input": "2025-10-18T07:31:57.688372Z",
     "iopub.status.busy": "2025-10-18T07:31:57.687767Z",
     "iopub.status.idle": "2025-10-18T07:31:57.710900Z",
     "shell.execute_reply": "2025-10-18T07:31:57.709657Z"
    },
    "papermill": {
     "duration": 0.027824,
     "end_time": "2025-10-18T07:31:57.712331",
     "exception": false,
     "start_time": "2025-10-18T07:31:57.684507",
     "status": "completed"
    },
    "tags": []
   },
   "outputs": [
    {
     "name": "stdout",
     "output_type": "stream",
     "text": [
      "<class 'pandas.core.frame.DataFrame'>\n",
      "RangeIndex: 5768 entries, 0 to 5767\n",
      "Data columns (total 2 columns):\n",
      " #   Column  Non-Null Count  Dtype \n",
      "---  ------  --------------  ----- \n",
      " 0   text    5768 non-null   object\n",
      " 1   label   5768 non-null   object\n",
      "dtypes: object(2)\n",
      "memory usage: 90.3+ KB\n"
     ]
    }
   ],
   "source": [
    "print(\"\\nStep 4: Analyzing dataset structure and data types\")\n",
    "print(\"=\" * 50)\n",
    "print(\"Dataset information including column names, data types, and memory usage:\")\n",
    "frame = pd.DataFrame(df)\n",
    "frame.info()"
   ]
  },
  {
   "cell_type": "code",
   "execution_count": null,
   "id": "f23ba6aa",
   "metadata": {
    "execution": {
     "iopub.execute_input": "2025-10-18T07:31:57.718640Z",
     "iopub.status.busy": "2025-10-18T07:31:57.718285Z",
     "iopub.status.idle": "2025-10-18T07:31:57.729478Z",
     "shell.execute_reply": "2025-10-18T07:31:57.728574Z"
    },
    "papermill": {
     "duration": 0.016081,
     "end_time": "2025-10-18T07:31:57.730950",
     "exception": false,
     "start_time": "2025-10-18T07:31:57.714869",
     "status": "completed"
    },
    "tags": []
   },
   "outputs": [
    {
     "name": "stdout",
     "output_type": "stream",
     "text": [
      "                            Count  Percentage\n",
      "label                                        \n",
      "Accident to person(s)        1662       28.81\n",
      "Damage / Loss Of Equipment   1375       23.84\n",
      "Loss Of Control               823       14.27\n",
      "Grounding / Stranding         561        9.73\n",
      "Contact                       406        7.04\n",
      "Collision                     326        5.65\n",
      "Fire / Explosion              324        5.62\n",
      "Flooding / Foundering         187        3.24\n",
      "Capsizing / Listing            99        1.72\n",
      "Hull Failure                    3        0.05\n",
      "Non-accidental Event            2        0.03\n"
     ]
    }
   ],
   "source": [
    "print(\"\\nStep 5: Analyzing label distribution in the dataset\")\n",
    "print(\"=\" * 50)\n",
    "print(\"Counting occurrences and calculating percentages for each incident type:\")\n",
    "\n",
    "counts = df['label'].value_counts()\n",
    "percentages = df['label'].value_counts(normalize=True) * 100\n",
    "\n",
    "summary = pd.DataFrame({\n",
    "    'Count': counts,\n",
    "    'Percentage': percentages.round(2)\n",
    "})\n",
    "\n",
    "print(\"\\nLabel distribution summary:\")\n",
    "print(summary)"
   ]
  },
  {
   "cell_type": "code",
   "execution_count": null,
   "id": "2bada363",
   "metadata": {
    "execution": {
     "iopub.execute_input": "2025-10-18T07:31:57.736897Z",
     "iopub.status.busy": "2025-10-18T07:31:57.736619Z",
     "iopub.status.idle": "2025-10-18T07:31:57.749346Z",
     "shell.execute_reply": "2025-10-18T07:31:57.748287Z"
    },
    "papermill": {
     "duration": 0.017294,
     "end_time": "2025-10-18T07:31:57.750793",
     "exception": false,
     "start_time": "2025-10-18T07:31:57.733499",
     "status": "completed"
    },
    "tags": []
   },
   "outputs": [
    {
     "name": "stdout",
     "output_type": "stream",
     "text": [
      "Any duplicate rows: 0\n"
     ]
    }
   ],
   "source": [
    "print(\"\\nStep 6: Checking for duplicate rows in the entire dataset\")\n",
    "print(\"=\" * 55)\n",
    "print(f\"Number of duplicate rows: {df.duplicated().sum()}\")"
   ]
  },
  {
   "cell_type": "code",
   "execution_count": null,
   "id": "ab2b7b62",
   "metadata": {
    "execution": {
     "iopub.execute_input": "2025-10-18T07:31:57.756918Z",
     "iopub.status.busy": "2025-10-18T07:31:57.756627Z",
     "iopub.status.idle": "2025-10-18T07:31:57.763160Z",
     "shell.execute_reply": "2025-10-18T07:31:57.762325Z"
    },
    "papermill": {
     "duration": 0.011078,
     "end_time": "2025-10-18T07:31:57.764452",
     "exception": false,
     "start_time": "2025-10-18T07:31:57.753374",
     "status": "completed"
    },
    "tags": []
   },
   "outputs": [
    {
     "name": "stdout",
     "output_type": "stream",
     "text": [
      "Duplicates in 'text' column: 0\n"
     ]
    }
   ],
   "source": [
    "print(\"\\nStep 7: Checking for duplicate text content in the 'text' column\")\n",
    "print(\"=\" * 60)\n",
    "print(f\"Number of duplicate text entries: {df['text'].duplicated().sum()}\")"
   ]
  },
  {
   "cell_type": "code",
   "execution_count": null,
   "id": "447ab4d7",
   "metadata": {},
   "outputs": [],
   "source": [
    "print(\"\\nStep 8: Data exploration completed!\")\n",
    "print(\"=\" * 35)\n",
    "print(\"Summary of findings:\")\n",
    "print(f\"- Total records: {len(df)}\")\n",
    "print(f\"- Dataset shape: {df.shape}\")\n",
    "print(f\"- Columns: {list(df.columns)}\")\n",
    "print(f\"- Duplicate rows: {df.duplicated().sum()}\")\n",
    "print(f\"- Duplicate text entries: {df['text'].duplicated().sum()}\")\n",
    "print(f\"- Number of unique incident types: {df['label'].nunique()}\")\n",
    "\n",
    "# convert the notebook to a script\n",
    "# jupyter nbconvert --to script maib-incident-data-analysis.ipynb"
   ]
  }
 ],
 "metadata": {
  "kaggle": {
   "accelerator": "none",
   "dataSources": [
    {
     "datasetId": 8518347,
     "sourceId": 13421366,
     "sourceType": "datasetVersion"
    }
   ],
   "dockerImageVersionId": 31153,
   "isGpuEnabled": false,
   "isInternetEnabled": true,
   "language": "python",
   "sourceType": "notebook"
  },
  "kernelspec": {
   "display_name": ".venv",
   "language": "python",
   "name": "python3"
  },
  "language_info": {
   "codemirror_mode": {
    "name": "ipython",
    "version": 3
   },
   "file_extension": ".py",
   "mimetype": "text/x-python",
   "name": "python",
   "nbconvert_exporter": "python",
   "pygments_lexer": "ipython3",
   "version": "3.12.3"
  },
  "papermill": {
   "default_parameters": {},
   "duration": 7.340223,
   "end_time": "2025-10-18T07:31:58.285069",
   "environment_variables": {},
   "exception": null,
   "input_path": "__notebook__.ipynb",
   "output_path": "__notebook__.ipynb",
   "parameters": {},
   "start_time": "2025-10-18T07:31:50.944846",
   "version": "2.6.0"
  }
 },
 "nbformat": 4,
 "nbformat_minor": 5
}
